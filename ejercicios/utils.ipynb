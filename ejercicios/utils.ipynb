{
 "cells": [
  {
   "cell_type": "code",
   "execution_count": null,
   "id": "71db4bec-ce2a-4b44-98d0-4fbdab40ff18",
   "metadata": {},
   "outputs": [],
   "source": [
    "from IPython.core.display import HTML\n",
    "display(HTML(\"<style>pre { white-space: pre !important; }</style>\"))"
   ]
  },
  {
   "cell_type": "code",
   "execution_count": null,
   "id": "0a3f5b8d-5b78-47e5-8eaf-44181654b5ed",
   "metadata": {},
   "outputs": [],
   "source": [
    "import datetime"
   ]
  },
  {
   "cell_type": "code",
   "execution_count": null,
   "id": "e5287c6c-31c8-4c30-9f38-e1f03c0ed81d",
   "metadata": {},
   "outputs": [],
   "source": [
    "def schema_to_ddl(df):\n",
    "    return spark.sparkContext._jvm.org.apache.spark.sql.types.DataType.fromJson(df.schema.json()).toDDL()"
   ]
  },
  {
   "cell_type": "code",
   "execution_count": null,
   "id": "22d232fe-c52b-49d1-a552-50dbabc05530",
   "metadata": {},
   "outputs": [],
   "source": [
    "def difference(l1, l2):\n",
    "    return list(set(l1) - set(l2))"
   ]
  },
  {
   "cell_type": "code",
   "execution_count": null,
   "id": "e5c65a19-c541-49f4-bffd-c77ec9d552f1",
   "metadata": {},
   "outputs": [],
   "source": [
    "def write_tmp_df(df_list):\n",
    "    for df,table_name in df_list:\n",
    "        df.write.mode(\"overwrite\").parquet(\"../resources/data/tmp/parquet/\" + table_name)"
   ]
  },
  {
   "cell_type": "code",
   "execution_count": null,
   "id": "b23b0987-d583-48eb-958a-acd5e6c6932a",
   "metadata": {},
   "outputs": [],
   "source": [
    "def read_tmp_df(df_list):\n",
    "    dict_dfs = {}\n",
    "    for table_name in df_list:\n",
    "        df = spark.read.parquet(\"../resources/data/tmp/parquet/\" + table_name)\n",
    "        dict_dfs[table_name] = df\n",
    "    return dict_dfs"
   ]
  },
  {
   "cell_type": "code",
   "execution_count": null,
   "id": "9f4ec28c-3817-430a-8924-26f214e6bb40",
   "metadata": {},
   "outputs": [],
   "source": []
  }
 ],
 "metadata": {
  "kernelspec": {
   "display_name": "Python 3 (ipykernel)",
   "language": "python",
   "name": "python3"
  },
  "language_info": {
   "codemirror_mode": {
    "name": "ipython",
    "version": 3
   },
   "file_extension": ".py",
   "mimetype": "text/x-python",
   "name": "python",
   "nbconvert_exporter": "python",
   "pygments_lexer": "ipython3",
   "version": "3.9.13"
  }
 },
 "nbformat": 4,
 "nbformat_minor": 5
}
